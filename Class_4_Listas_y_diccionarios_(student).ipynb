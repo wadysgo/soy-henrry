{
  "cells": [
    {
      "cell_type": "markdown",
      "metadata": {
        "id": "view-in-github",
        "colab_type": "text"
      },
      "source": [
        "<a href=\"https://colab.research.google.com/github/wadysgo/soy-henrry/blob/main/Class_4_Listas_y_diccionarios_(student).ipynb\" target=\"_parent\"><img src=\"https://colab.research.google.com/assets/colab-badge.svg\" alt=\"Open In Colab\"/></a>"
      ]
    },
    {
      "cell_type": "markdown",
      "metadata": {
        "id": "T0T8-vCyA7hj"
      },
      "source": [
        "## Listas y Diccionarios\n",
        "\n",
        "Ambas son conocidas como estructuras de datos, nos ayudan a almacenar datos y podemos realizar operaciones sobre ellas, te mostraremos algunos y ejemplos y tu podras continuar probando algunas operaciones."
      ]
    },
    {
      "cell_type": "markdown",
      "metadata": {
        "id": "qgDh1lIcA7ho"
      },
      "source": [
        "### Listas\n",
        "\n",
        "Las listas son como las listas que habitualmente conocemos en el mundo real, como pueden ser las listas de estudiantes, una lista de numeros de telefonos, etc. Y como en la vida real en python tambien tienen un orden, con la diferencia de que la primera posicion es el 0, veamos algunos ejemplos:"
      ]
    },
    {
      "cell_type": "code",
      "execution_count": null,
      "metadata": {
        "id": "SBWbuV-UA7ho",
        "outputId": "f6335b4b-d1ec-449d-d8c1-22f44eaaffb1"
      },
      "outputs": [
        {
          "name": "stdout",
          "output_type": "stream",
          "text": [
            "green\n"
          ]
        }
      ],
      "source": [
        "colors = [\"green\", \"blue\", \"yellow\", \"red\"]\n",
        "\n",
        "## Accedemos al valor de la primera posicion en la lista usando el valor 0, que llamaremos index\n",
        "print(colors[0])"
      ]
    },
    {
      "cell_type": "code",
      "execution_count": null,
      "metadata": {
        "id": "2negASSAA7hr",
        "outputId": "8abbd558-b474-49b4-c1e8-876bbfb015be",
        "colab": {
          "base_uri": "https://localhost:8080/"
        }
      },
      "outputs": [
        {
          "output_type": "stream",
          "name": "stdout",
          "text": [
            "13\n"
          ]
        }
      ],
      "source": [
        "## Que pasa si accedemos a una posicion que no existe en la lista:\n",
        "\n",
        "ages = [12, 13, 45, 34, 23]\n",
        "\n",
        "## Lanzara una excepcion explicando la razon.\n",
        "print(ages[12])"
      ]
    },
    {
      "cell_type": "code",
      "execution_count": null,
      "metadata": {
        "id": "3n97tI1zA7ht",
        "outputId": "1c15dbc4-a5ae-4e1f-a7f1-c1068e27a5f6"
      },
      "outputs": [
        {
          "name": "stdout",
          "output_type": "stream",
          "text": [
            "[12, 'Carlos', 'Robert', '999', 909]\n"
          ]
        }
      ],
      "source": [
        "## Viste que en los ejemplos solo usamos un solo tipo de datos en la lista\n",
        "## Pero podemos tener varios tipos en una lista\n",
        "\n",
        "students = [12, \"Carlos\", \"Robert\", \"999\", 909]\n",
        "## Imprimimos la lista sin problemas por que es valido\n",
        "print(students)"
      ]
    },
    {
      "cell_type": "markdown",
      "metadata": {
        "id": "gyiVhayBA7hu"
      },
      "source": [
        "Podemos hacer varias operaciones con las listas, a continuacion te dejamos algunas:\n",
        "\n",
        "- **index(valor_para_buscar):** Devuelve el valor que se busca en la lista.\n",
        "- **insert(posicion, valor_para_agregar):** Agrega un valor en la lista, en una posicion determinada.\n",
        "- **max(lista):** Devuelve el valor maximo de una lista.\n",
        "- **min(lista):** Devuelve el valor minimo de una lista.\n",
        "- **list.count(valor):** Devuelve la cantidad de veces que un valor esta en una lista.\n",
        "- **append(valor)** Ingresa un valor a la lista en la ultima posicion"
      ]
    },
    {
      "cell_type": "code",
      "execution_count": null,
      "metadata": {
        "id": "S7V1MIMIA7hv",
        "outputId": "a27e7a71-858e-44a0-f94a-37f6885e768e",
        "colab": {
          "base_uri": "https://localhost:8080/"
        }
      },
      "outputs": [
        {
          "output_type": "stream",
          "name": "stdout",
          "text": [
            "4\n"
          ]
        }
      ],
      "source": [
        "## Probemos el append con una entrada usando la funcion input()\n",
        "\n",
        "accounts = ['123', '345', '345', '900']\n",
        "value = input(\"Ingresa un valor: \")\n",
        "\n",
        "accounts.append(value)\n",
        "\n",
        "## Tu puedes probar de usar las demas operaciones.\n",
        "print(accounts)"
      ]
    },
    {
      "cell_type": "markdown",
      "metadata": {
        "id": "yUw6aXVoA7hw"
      },
      "source": [
        "### Diccionarios\n",
        "\n",
        "Al igual forma que las listas, no difieren mucho de lo que conocemos en la vida real, usamos una llave que llamaremos `key` para acceder a un valor que en python lo conocemos como `value`, a diferencia de las listas esta estructura no tiene un orden definido, veamos algunos ejemplos."
      ]
    },
    {
      "cell_type": "code",
      "execution_count": null,
      "metadata": {
        "id": "iqleSBNPA7hx",
        "outputId": "f9fcdbdd-6006-4759-e6af-091b94c225d7"
      },
      "outputs": [
        {
          "name": "stdout",
          "output_type": "stream",
          "text": [
            "12\n"
          ]
        }
      ],
      "source": [
        "names_by_age = {\"carlos\": 12, \"pablo\": 23, \"mendoza\": 90}\n",
        "\n",
        "## a diferencia de las listas para acceder a un valor, debes usar la llave, no el index\n",
        "print(names_by_age[\"carlos\"])"
      ]
    },
    {
      "cell_type": "code",
      "execution_count": null,
      "metadata": {
        "id": "gOsB2269A7hy",
        "outputId": "f771256c-6746-41a2-8b47-098413cbaf27"
      },
      "outputs": [
        {
          "ename": "KeyError",
          "evalue": "'no'",
          "output_type": "error",
          "traceback": [
            "\u001b[0;31m---------------------------------------------------------------------------\u001b[0m",
            "\u001b[0;31mKeyError\u001b[0m                                  Traceback (most recent call last)",
            "\u001b[0;32m<ipython-input-9-d6997e6e7044>\u001b[0m in \u001b[0;36m<module>\u001b[0;34m\u001b[0m\n\u001b[1;32m      4\u001b[0m \u001b[0;34m\u001b[0m\u001b[0m\n\u001b[1;32m      5\u001b[0m \u001b[0;31m## Igual que en las listas salta una excepcion\u001b[0m\u001b[0;34m\u001b[0m\u001b[0;34m\u001b[0m\u001b[0;34m\u001b[0m\u001b[0m\n\u001b[0;32m----> 6\u001b[0;31m \u001b[0mprint\u001b[0m\u001b[0;34m(\u001b[0m\u001b[0musers_by_page\u001b[0m\u001b[0;34m[\u001b[0m\u001b[0;34m\"no\"\u001b[0m\u001b[0;34m]\u001b[0m\u001b[0;34m)\u001b[0m\u001b[0;34m\u001b[0m\u001b[0;34m\u001b[0m\u001b[0m\n\u001b[0m",
            "\u001b[0;31mKeyError\u001b[0m: 'no'"
          ]
        }
      ],
      "source": [
        "## Que pasa si ingresamos una llave que no existe?\n",
        "\n",
        "users_by_page = {\"facebook\": 12, \"instagram\": 89, \"reddit\": 890}\n",
        "\n",
        "## Igual que en las listas salta una excepcion\n",
        "print(users_by_page[\"no\"])"
      ]
    },
    {
      "cell_type": "code",
      "execution_count": null,
      "metadata": {
        "id": "sc6wbEbaA7hy",
        "outputId": "8c7cba77-9744-49bd-d703-2a5cb914ae07"
      },
      "outputs": [
        {
          "name": "stdout",
          "output_type": "stream",
          "text": [
            "{'bulldog': 23, 'golden': 123}\n"
          ]
        }
      ],
      "source": [
        "## Que pasa si creamos un diccionario con llaves duplicadas?\n",
        "\n",
        "dogs = {\"bulldog\": 23, \"golden\": 90, \"golden\": 123}\n",
        "\n",
        "## Como puedes ver toma el ultimo valor que ingresamos en el diccionario\n",
        "print(dogs)"
      ]
    },
    {
      "cell_type": "code",
      "execution_count": null,
      "metadata": {
        "id": "FGsVX-YYA7hz",
        "outputId": "e3f4e866-e0bc-4711-f232-4ab315f183fd"
      },
      "outputs": [
        {
          "name": "stdout",
          "output_type": "stream",
          "text": [
            "{'meow': 89, 'pelusa': 89}\n"
          ]
        }
      ],
      "source": [
        "## Como cambiamos un valor en el diccionario?\n",
        "\n",
        "cats = {\"meow\": 90, \"pelusa\": 89}\n",
        "\n",
        "cats[\"meow\"] = 89;\n",
        "\n",
        "print(cats)"
      ]
    },
    {
      "cell_type": "markdown",
      "metadata": {
        "id": "s689mIjHA7hz"
      },
      "source": [
        "Al igual que en las listas podemos hacer varias operaciones con los diccionarios, como ser:\n",
        "  * **get(‘key’)**: Devuelve el valor que corresponde con la key introducida.\n",
        "  * **pop(‘key’)**: Devuelve el valor que corresponde con la key introducida, y luego borra la key y el valor.\n",
        "  * **update({‘key’:’valor’})**: Inserta una determinada key o actualiza su valor si ya existiera.\n",
        "  * **«key» in diccionario**: Devuelve verdadero (True) o falso (False) si la key (no los valores) existe en el diccionario.\n",
        "  * **«definicion» in diccionario.values()**: Devuelve verdadero (True) o falso (False) si definición existe en el diccionario (no como key)."
      ]
    },
    {
      "cell_type": "code",
      "execution_count": null,
      "metadata": {
        "id": "yfJrXwdcA7h0",
        "outputId": "0c367152-c562-467e-bd1f-6ed8fc399986"
      },
      "outputs": [
        {
          "name": "stdout",
          "output_type": "stream",
          "text": [
            "{'list': [1, 2, 3, 4, 5]}\n"
          ]
        }
      ],
      "source": [
        "## Puedes probar las funciones que quieras, incluso puedes mezclar listas con diccionarios\n",
        "\n",
        "special_dict = {\"list\": [1, 2, 3, 4, 5]}\n",
        "print(special_dict)"
      ]
    },
    {
      "cell_type": "markdown",
      "metadata": {
        "id": "dcXe5emTA7h1"
      },
      "source": [
        "## Ejercicios"
      ]
    },
    {
      "cell_type": "markdown",
      "metadata": {
        "id": "9mSGVykUA7h1"
      },
      "source": [
        "### Ejercicio 1\n",
        "\n",
        "Recuerdas el ejercicio de la anterior leccion donde te pedimos que hagas una version del juego: piedra, papel, tijera, lagarto, spock. Bueno como sabras en el mundo de la programacion no existe solo una solucion unico, si no n soluciones, asi que para este ejercicio te pediremos que escribas el mismo juego, de igual forma que lo hiciste en la anterior leccion, con una diferencia, debes usar diccionarios."
      ]
    },
    {
      "cell_type": "code",
      "execution_count": null,
      "metadata": {
        "id": "cIK8CeoSA7h2"
      },
      "outputs": [],
      "source": [
        "def juego_piedra_papel_tijera_lagarto_spock(juan, laura):\n",
        "    reglas = {\n",
        "        'piedra': {'tijera', 'lagarto'},\n",
        "        'papel': {'piedra', 'spock'},\n",
        "        'tijera': {'papel', 'lagarto'},\n",
        "        'lagarto': {'papel', 'spock'},\n",
        "        'spock': {'piedra', 'tijera'}\n",
        "    }\n",
        "\n",
        "    if juan  == laura:\n",
        "        return 'Empate de los chirusos'\n",
        "\n",
        "    if laura in reglas[juan]:\n",
        "        return 'Juan 1 gana genio !'\n",
        "    else:\n",
        "        return \"laura 2 gana !!! la loca'\n",
        "\n",
        "resultado = juego_piedra_papel_tijera_lagarto_spock('piedra', 'tijera')\n",
        "print(resultado)  # juan gana genio !!\n",
        "\n",
        "resultado = juego_piedra_papel_tijera_lagarto_spock('lagarto', 'papel')\n",
        "print(resultado)  # laura 1 gana!!! la loca\n",
        "\n",
        "resultado = juego_piedra_papel_tijera_lagarto_spock('papel', 'papel')\n",
        "print(resultado)  # Empate de los chirusos"
      ]
    },
    {
      "cell_type": "markdown",
      "metadata": {
        "id": "v7zar4CGA7h3"
      },
      "source": [
        "### Ejercicio 2\n",
        "\n",
        "En SEGIP existe la regla que dos ciudadanos no pueden tener el mismo carnet de identidad, entonces dado un diccionario donde la llave es el nombre y el valor el carnet, en la siguiente clase completa el metodo `add_person` de tal forma que verifique primero si el carnet es duplicado, si es duplicado, imprime \"El carnet es duplicado\", y ademas debe tener una longitud de 8 digitos, en caso de no ser asi imprime \"El carnet es invalido, debe tener 8 digitos\"\n"
      ]
    },
    {
      "cell_type": "code",
      "execution_count": null,
      "metadata": {
        "id": "eHw_-zRUA7h3"
      },
      "outputs": [],
      "source": [
        "class Segip:\n",
        "  def __init__(self):\n",
        "    self.persons = {}\n",
        "\n",
        "  def add_person(self, name, ci):\n",
        "    pass"
      ]
    },
    {
      "cell_type": "code",
      "execution_count": null,
      "metadata": {
        "id": "XDzIVFQcA7h4"
      },
      "outputs": [],
      "source": [
        "segip = Segip()\n",
        "\n",
        "segip.add_person(\"Andy\", 12345678)\n",
        "## No debe agregar a sofia ya que es duplicado\n",
        "segip.add_person(\"Sofia\", 12345678)\n",
        "\n"
      ]
    },
    {
      "cell_type": "code",
      "source": [
        "class Segip:\n",
        "    def _init_(self):\n",
        "        self.ciudadanos = {}\n",
        "\n",
        "    def add_person(self, nombre, carnet):\n",
        "        if len(carnet) != 8:\n",
        "            print(\"El carnet es inválido, debe tener 8 dígitos.\")\n",
        "        elif carnet in self.ciudadanos.values():\n",
        "            print(\"El carnet es duplicado.\")\n",
        "        else:\n",
        "            self.ciudadanos[nombre] = carnet\n",
        "            print(\"Ciudadano añadido correctamente.\")\n",
        "\n",
        "# mi ejemolo\n",
        "segip = Segip()\n",
        "segip.add_person(\"dario\", \"12345678\")\n",
        "segip.add_person(\"luna\", \"87654321\")\n",
        "segip.add_person(\"lucas\", \"12345678\")\n",
        "segip.add_person(\"myran\", \"12345\")"
      ],
      "metadata": {
        "id": "fyJHiN0bJjRE"
      },
      "execution_count": null,
      "outputs": []
    },
    {
      "cell_type": "markdown",
      "metadata": {
        "id": "sSO3pUb0A7h4"
      },
      "source": [
        "### Ejercicio 3\n",
        "\n",
        "Inventario de productos con precios y existencias\n",
        "Crea un programa que gestione un inventario de productos en una tienda. Utiliza un diccionario donde las claves sean los nombres de los productos y los valores sean listas que contengan información adicional, como precios y existencias disponibles.\n",
        "- metodo para a agregar producto al inventario\n",
        "- metodo para actualizar precio del inventario\n",
        "- mostrar inventario actual\n",
        "\n",
        "\n",
        "**Nota la solucion debe incluir clases**"
      ]
    },
    {
      "cell_type": "markdown",
      "metadata": {
        "id": "zrHuNfsLA7h5"
      },
      "source": [
        "### Ejercicio 4\n",
        "\n",
        "Escribe un programa que lea una cadena y devuelva un diccionario con la cantidad de apariciones de cada carácter en la cadena."
      ]
    },
    {
      "cell_type": "code",
      "execution_count": null,
      "metadata": {
        "id": "3aDM16_9A7h6",
        "colab": {
          "base_uri": "https://localhost:8080/",
          "height": 418
        },
        "outputId": "9392e0f3-0259-4ec0-b275-76c0e13a9220"
      },
      "outputs": [
        {
          "output_type": "stream",
          "name": "stdout",
          "text": [
            "Estado inicial de los robots:\n",
            "Nombre: RobotX\n",
            "Energía: 120\n"
          ]
        },
        {
          "output_type": "error",
          "ename": "KeyError",
          "evalue": "ignored",
          "traceback": [
            "\u001b[0;31m---------------------------------------------------------------------------\u001b[0m",
            "\u001b[0;31mKeyError\u001b[0m                                  Traceback (most recent call last)",
            "\u001b[0;32m<ipython-input-4-5c389948d1c7>\u001b[0m in \u001b[0;36m<cell line: 112>\u001b[0;34m()\u001b[0m\n\u001b[1;32m    110\u001b[0m \u001b[0mprint\u001b[0m\u001b[0;34m(\u001b[0m\u001b[0;34m\"Estado inicial de los robots:\"\u001b[0m\u001b[0;34m)\u001b[0m\u001b[0;34m\u001b[0m\u001b[0;34m\u001b[0m\u001b[0m\n\u001b[1;32m    111\u001b[0m \u001b[0;31m#mostrar_estado(robot_wally)\u001b[0m\u001b[0;34m\u001b[0m\u001b[0;34m\u001b[0m\u001b[0m\n\u001b[0;32m--> 112\u001b[0;31m \u001b[0mmostrar_estado\u001b[0m\u001b[0;34m(\u001b[0m\u001b[0mrobot_robotx\u001b[0m\u001b[0;34m)\u001b[0m\u001b[0;34m\u001b[0m\u001b[0;34m\u001b[0m\u001b[0m\n\u001b[0m\u001b[1;32m    113\u001b[0m \u001b[0;34m\u001b[0m\u001b[0m\n\u001b[1;32m    114\u001b[0m \u001b[0;31m# Simular una batalla\u001b[0m\u001b[0;34m\u001b[0m\u001b[0;34m\u001b[0m\u001b[0m\n",
            "\u001b[0;32m<ipython-input-4-5c389948d1c7>\u001b[0m in \u001b[0;36mmostrar_estado\u001b[0;34m(robot)\u001b[0m\n\u001b[1;32m     16\u001b[0m     \u001b[0mprint\u001b[0m\u001b[0;34m(\u001b[0m\u001b[0;34mf\"Nombre: {robot['nombre']}\"\u001b[0m\u001b[0;34m)\u001b[0m\u001b[0;34m\u001b[0m\u001b[0;34m\u001b[0m\u001b[0m\n\u001b[1;32m     17\u001b[0m     \u001b[0mprint\u001b[0m\u001b[0;34m(\u001b[0m\u001b[0;34mf\"Energía: {robot['energia']}\"\u001b[0m\u001b[0;34m)\u001b[0m\u001b[0;34m\u001b[0m\u001b[0;34m\u001b[0m\u001b[0m\n\u001b[0;32m---> 18\u001b[0;31m     \u001b[0mprint\u001b[0m\u001b[0;34m(\u001b[0m\u001b[0;34mf\"Ataque: {robot['ataque']}\"\u001b[0m\u001b[0;34m)\u001b[0m\u001b[0;34m\u001b[0m\u001b[0;34m\u001b[0m\u001b[0m\n\u001b[0m\u001b[1;32m     19\u001b[0m     \u001b[0mprint\u001b[0m\u001b[0;34m(\u001b[0m\u001b[0;34mf\"Defensa: {robot['defensa']}\"\u001b[0m\u001b[0;34m)\u001b[0m\u001b[0;34m\u001b[0m\u001b[0;34m\u001b[0m\u001b[0m\n\u001b[1;32m     20\u001b[0m \u001b[0;34m\u001b[0m\u001b[0m\n",
            "\u001b[0;31mKeyError\u001b[0m: 'ataque'"
          ]
        }
      ],
      "source": [
        "def atacar(atacante, objetivo):\n",
        "    print(f\"{atacante['nombre']} ataca a {objetivo['nombre']}!\")\n",
        "    dano = atacante['ataque'] - objetivo['defensa']\n",
        "    if dano > 0:\n",
        "        objetivo['energia'] -= dano\n",
        "        print(f\"{objetivo['nombre']} pierde {dano} puntos de energía.\")\n",
        "    else:\n",
        "        print(\"El ataque no causa ningún daño.\")\n",
        "\n",
        "def reparar(robot):\n",
        "    print(f\"{robot['nombre']} se está reparando...\")\n",
        "    robot['energia'] += 10\n",
        "    print(f\"{robot['nombre']} ha recuperado 10 puntos de energía.\")\n",
        "\n",
        "def mostrar_estado(robot):\n",
        "    print(f\"Nombre: {robot['nombre']}\")\n",
        "    print(f\"Energía: {robot['energia']}\")\n",
        "    print(f\"Ataque: {robot['ataque']}\")\n",
        "    print(f\"Defensa: {robot['defensa']}\")\n",
        "\n",
        "# Robot Wally\n",
        "robot_wally = {\n",
        "    'nombre': 'Wally',\n",
        "    'energia': 100,\n",
        "    'cabeza': {\n",
        "        'nombre': 'Cabeza láser',\n",
        "        'estado': 'Disponible',\n",
        "        'ataque': 20,\n",
        "        'defensa': 5,\n",
        "        'consumo_energia': 90\n",
        "    },\n",
        "    'arma': {\n",
        "        'nombre': 'Espada de plasma',\n",
        "        'estado': 'Disponible',\n",
        "        'ataque': 25,\n",
        "        'defensa': 5,\n",
        "        'consumo_energia': 56\n",
        "    },\n",
        "    'brazo_izquierdo': {\n",
        "        'nombre': 'Brazo de fuerza',\n",
        "        'estado': 'Disponible',\n",
        "        'ataque': 6,\n",
        "        'defensa': 4,\n",
        "        'consumo_energia': 8\n",
        "    },\n",
        "    'brazo_derecho': {\n",
        "        'nombre': 'Brazo de garra',\n",
        "        'estado': 'No disponible',\n",
        "        'ataque': 4,\n",
        "        'defensa': 2,\n",
        "        'consumo_energia': 11\n",
        "    },\n",
        "    'pierna_izquierda': {\n",
        "        'nombre': 'Pierna propulsada',\n",
        "        'estado': 'Disponible',\n",
        "        'ataque': 5,\n",
        "        'defensa': 3,\n",
        "        'consumo_energia': 22\n",
        "    }\n",
        "}\n",
        "\n",
        "# Robot RobotX\n",
        "robot_robotx = {\n",
        "    'nombre': 'RobotX',\n",
        "    'energia': 120,\n",
        "    'cabeza': {\n",
        "        'nombre': 'Cabeza plasma',\n",
        "        'estado': 'Disponible',\n",
        "        'ataque': 25,\n",
        "        'defensa': 5,\n",
        "        'consumo_energia': 70\n",
        "    },\n",
        "    'arma': {\n",
        "        'nombre': 'Espada de laser',\n",
        "        'estado': 'Disponible',\n",
        "        'ataque': 29,\n",
        "        'defensa': 15,\n",
        "        'consumo_energia': 14\n",
        "    },\n",
        "    'brazo_izquierdo': {\n",
        "        'nombre': 'Brazo de fuerza',\n",
        "        'estado': 'Disponible',\n",
        "        'ataque': 16,\n",
        "        'defensa': 4,\n",
        "        'consumo_energia': 12\n",
        "    },\n",
        "    'brazo_derecho': {\n",
        "        'nombre': 'Brazo de garra',\n",
        "        'estado': 'Disponible',\n",
        "        'ataque': 4,\n",
        "        'defensa': 21,\n",
        "        'consumo_energia': 12\n",
        "    },\n",
        "    'pierna_izquierda': {\n",
        "        'nombre': 'Pierna flash',\n",
        "        'estado': 'Disponible',\n",
        "        'ataque': 5,\n",
        "        'defensa': 3,\n",
        "        'consumo_energia': 20\n",
        "    },\n",
        "    'pierna_derecha': {\n",
        "        'nombre': 'Pierna de salto',\n",
        "        'estado': 'Disponible',\n",
        "        'ataque': 4,\n",
        "        'defensa': 2,\n",
        "        'consumo_energia': 10\n",
        "    }\n",
        "}\n",
        "# Mostrar estado inicial de los robots\n",
        "print(\"Estado inicial de los robots:\")\n",
        "#mostrar_estado(robot_wally)\n",
        "mostrar_estado(robot_robotx)\n",
        "\n",
        "# Simular una batalla\n",
        "print(\"\\n¡Comienza la batalla!\")\n",
        "atacar(robot_wally, robot_robotx)\n",
        "atacar(robot_robotx, robot_wally)\n",
        "\n",
        "# Mostrar estado después de la batalla\n",
        "print(\"\\nEstado después de la batalla:\")\n",
        "mostrar_estado(robot_wally)\n",
        "mostrar_estado(robot_robotx)\n",
        "\n",
        "# Reparar un robot\n",
        "reparar(robot_wally)\n",
        "reparar(robot_robotx)\n",
        "\n",
        "# Mostrar estado después de la reparación\n",
        "print(\"\\nEstado después de la reparación:\")\n",
        "mostrar_estado(robot_wally)\n",
        "mostrar_estado(robot_robotx)"
      ]
    }
  ],
  "metadata": {
    "kernelspec": {
      "display_name": "Python 3",
      "language": "python",
      "name": "python3"
    },
    "language_info": {
      "codemirror_mode": {
        "name": "ipython",
        "version": 3
      },
      "file_extension": ".py",
      "mimetype": "text/x-python",
      "name": "python",
      "nbconvert_exporter": "python",
      "pygments_lexer": "ipython3",
      "version": "3.6.7"
    },
    "colab": {
      "provenance": [],
      "include_colab_link": true
    }
  },
  "nbformat": 4,
  "nbformat_minor": 0
}